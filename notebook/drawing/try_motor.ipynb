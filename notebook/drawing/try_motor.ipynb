{
 "cells": [
  {
   "cell_type": "code",
   "execution_count": 1,
   "id": "dc7b35c8",
   "metadata": {},
   "outputs": [
    {
     "name": "stdout",
     "output_type": "stream",
     "text": [
      "MuJoCo:[3.3.2]\n"
     ]
    },
    {
     "data": {
      "text/plain": [
       "'\\nrequirements:\\nmujoco\\nimageio\\nmatplotlib\\ndynamixel-sdk\\n'"
      ]
     },
     "execution_count": 1,
     "metadata": {},
     "output_type": "execute_result"
    }
   ],
   "source": [
    "import sys, os\n",
    "import mujoco\n",
    "import numpy as np\n",
    "import matplotlib.pyplot as plt\n",
    "import matplotlib.image as mpimg\n",
    "import cv2\n",
    "from PIL import Image, ImageDraw\n",
    "from IPython.display import display\n",
    "from OpenGL.GL import *\n",
    "import datetime\n",
    "from dynamixel_sdk import *\n",
    "sys.path.append('../../package/kinematics_helper/')\n",
    "sys.path.append('../../package/mujoco_helper/')\n",
    "sys.path.append('../../package/utility/')\n",
    "sys.path.append('../../package/openmanipulator/')\n",
    "from ik import *\n",
    "from mujoco_parser import *\n",
    "from utils import *\n",
    "from transforms import *\n",
    "from motor import *\n",
    "from pos_utils import *\n",
    "\n",
    "print (\"MuJoCo:[%s]\"%(mujoco.__version__))\n",
    "\"\"\"\n",
    "requirements:\n",
    "mujoco\n",
    "imageio\n",
    "matplotlib\n",
    "dynamixel-sdk\n",
    "\"\"\""
   ]
  },
  {
   "cell_type": "code",
   "execution_count": 2,
   "id": "0e26484c",
   "metadata": {},
   "outputs": [
    {
     "name": "stdout",
     "output_type": "stream",
     "text": [
      "controller.DEVICENAME:  /dev/ttyUSB0\n",
      "Succeeded to open the port\n",
      "Succeeded to change the baudrate\n"
     ]
    }
   ],
   "source": [
    "controller = XM430()\n",
    "controller.DXL_ID = [11,12,13,14,15]\n",
    "print(\"controller.DEVICENAME: \", controller.DEVICENAME)\n",
    "controller.BAUDRATE = 1000000\n",
    "controller.initialize()"
   ]
  },
  {
   "cell_type": "code",
   "execution_count": null,
   "id": "55105b2e",
   "metadata": {},
   "outputs": [
    {
     "name": "stdout",
     "output_type": "stream",
     "text": [
      "devided movement\n"
     ]
    }
   ],
   "source": [
    "controller.read()\n",
    "current_pos = controller.dxl_present_position\n",
    "controller.safety(\n",
    "    current_pos = current_pos,\n",
    "    desired_pos = rads_to_bytes([0,0,0,0,0],ranges=np.array([[-np.pi,np.pi]])),\n",
    "    id_to_move = controller.DXL_ID,\n",
    "    )"
   ]
  }
 ],
 "metadata": {
  "kernelspec": {
   "display_name": "Python 3",
   "language": "python",
   "name": "python3"
  },
  "language_info": {
   "codemirror_mode": {
    "name": "ipython",
    "version": 3
   },
   "file_extension": ".py",
   "mimetype": "text/x-python",
   "name": "python",
   "nbconvert_exporter": "python",
   "pygments_lexer": "ipython3",
   "version": "3.10.12"
  }
 },
 "nbformat": 4,
 "nbformat_minor": 5
}
