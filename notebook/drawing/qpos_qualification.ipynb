{
 "cells": [
  {
   "cell_type": "code",
   "execution_count": 1,
   "id": "090f55c6",
   "metadata": {},
   "outputs": [],
   "source": [
    "import numpy as np\n",
    "\n",
    "data = np.load('./result/timestep_and_qpos.npz')"
   ]
  },
  {
   "cell_type": "code",
   "execution_count": 2,
   "id": "5f9e9214",
   "metadata": {},
   "outputs": [
    {
     "name": "stdout",
     "output_type": "stream",
     "text": [
      "timestep shape: (4294, 1), qpos shape: (4294, 5)\n"
     ]
    }
   ],
   "source": [
    "timestep = data['timestep']\n",
    "qpos = data['qpos']\n",
    "print(f\"timestep shape: {timestep.shape}, qpos shape: {qpos.shape}\")"
   ]
  },
  {
   "cell_type": "code",
   "execution_count": 3,
   "id": "7f50e093",
   "metadata": {},
   "outputs": [
    {
     "data": {
      "text/plain": [
       "array([[ 0.00000000e+00,  0.00000000e+00,  0.00000000e+00,\n",
       "         0.00000000e+00,  2.24000000e-01],\n",
       "       [-1.44227851e-22,  2.26724967e-21, -3.98327978e-22,\n",
       "         1.12471880e-24,  2.24000000e-01],\n",
       "       [-1.13426663e-20,  1.64924087e-19, -1.33036498e-20,\n",
       "         3.17186421e-21,  2.24000000e-01],\n",
       "       ...,\n",
       "       [ 6.56084804e-06, -9.38697943e-04,  4.44492120e-03,\n",
       "        -6.41804767e-03,  2.24000000e-01],\n",
       "       [ 2.71221899e-08, -9.50675124e-04,  4.44251813e-03,\n",
       "        -6.41356493e-03,  2.24000000e-01],\n",
       "       [ 2.71221899e-08, -9.50675124e-04,  4.44251813e-03,\n",
       "        -6.41356493e-03,  2.24000000e-01]])"
      ]
     },
     "execution_count": 3,
     "metadata": {},
     "output_type": "execute_result"
    }
   ],
   "source": [
    "qpos"
   ]
  },
  {
   "cell_type": "code",
   "execution_count": 4,
   "id": "ab9e3ed8",
   "metadata": {},
   "outputs": [
    {
     "name": "stdout",
     "output_type": "stream",
     "text": [
      "Velocity limit exceeded at indices (row, joint): []\n",
      "Acceleration limit exceeded at indices (row, joint): []\n"
     ]
    }
   ],
   "source": [
    "# velocity와 acceleration 계산\n",
    "dt = np.diff(timestep, axis=0).flatten()  # (n-1,)\n",
    "velocity = np.diff(qpos, axis=0) / dt[:, None]  # (n-1, 5)\n",
    "acceleration = np.diff(velocity, axis=0) / dt[:-1, None]  # (n-2, 5)\n",
    "\n",
    "\n",
    "# residual_torque_limits = np.array(\n",
    "#     [4.07267981906041,\n",
    "#     3.95198067018901,\n",
    "#     3.97675265052986,\n",
    "#     3.96028660022148,\n",
    "#     3.9\n",
    "#     ])\n",
    "vel_limits = np.array(\n",
    "    [4.78501013007516,\n",
    "    4.64320014851508,\n",
    "    4.67230486141645,\n",
    "    4.6529588236653,\n",
    "    4.6])\n",
    "acc_limits = np.array(\n",
    "    [231321.273714306,\n",
    "    16418.1218822564,\n",
    "    160356.382291855,\n",
    "    23470.8936359572,\n",
    "    20000.0])\n",
    "# 제한 초과 여부 확인\n",
    "vel_exceed = np.abs(velocity) > vel_limits\n",
    "acc_exceed = np.abs(acceleration) > acc_limits\n",
    "\n",
    "# 결과 출력\n",
    "print(\"Velocity limit exceeded at indices (row, joint):\", np.argwhere(vel_exceed))\n",
    "print(\"Acceleration limit exceeded at indices (row, joint):\", np.argwhere(acc_exceed))"
   ]
  }
 ],
 "metadata": {
  "kernelspec": {
   "display_name": "Python 3",
   "language": "python",
   "name": "python3"
  },
  "language_info": {
   "codemirror_mode": {
    "name": "ipython",
    "version": 3
   },
   "file_extension": ".py",
   "mimetype": "text/x-python",
   "name": "python",
   "nbconvert_exporter": "python",
   "pygments_lexer": "ipython3",
   "version": "3.10.12"
  }
 },
 "nbformat": 4,
 "nbformat_minor": 5
}
