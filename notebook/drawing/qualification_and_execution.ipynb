{
 "cells": [
  {
   "cell_type": "code",
   "execution_count": 1,
   "id": "090f55c6",
   "metadata": {},
   "outputs": [],
   "source": [
    "import numpy as np\n",
    "import sys\n",
    "sys.path.append('../../package/utility/')\n",
    "sys.path.append('../../package/openmanipulator/')\n",
    "from timer import Timer\n",
    "from dynamixel_sdk import *\n",
    "from motor import *\n",
    "from pos_utils import *\n"
   ]
  },
  {
   "cell_type": "code",
   "execution_count": 2,
   "id": "5f9e9214",
   "metadata": {},
   "outputs": [
    {
     "name": "stdout",
     "output_type": "stream",
     "text": [
      "timestep shape: (6241, 1), qpos shape: (6241, 5)\n"
     ]
    }
   ],
   "source": [
    "data = np.load('./result/2024021071_timestep_and_qpos.npz')\n",
    "timestep = data['timestep']\n",
    "qpos = data['qpos']\n",
    "print(f\"timestep shape: {timestep.shape}, qpos shape: {qpos.shape}\")"
   ]
  },
  {
   "cell_type": "code",
   "execution_count": 3,
   "id": "7f50e093",
   "metadata": {},
   "outputs": [
    {
     "data": {
      "text/plain": [
       "array([[ 0.00000000e+00,  0.00000000e+00,  0.00000000e+00,\n",
       "         0.00000000e+00,  2.24000000e-01],\n",
       "       [-1.49457967e-22, -1.59864847e-20,  1.30636758e-23,\n",
       "        -8.78327563e-23,  2.24000000e-01],\n",
       "       [-9.62360258e-21, -7.34255249e-19,  8.74400250e-22,\n",
       "        -3.98574711e-21,  2.24000000e-01],\n",
       "       ...,\n",
       "       [ 8.18457675e-06, -4.12222265e-04,  2.33479013e-03,\n",
       "        -3.51409020e-03,  2.24000000e-01],\n",
       "       [ 2.66937596e-06, -4.21621119e-04,  2.32902893e-03,\n",
       "        -3.51634718e-03,  2.24000000e-01],\n",
       "       [ 2.66937596e-06, -4.21621119e-04,  2.32902893e-03,\n",
       "        -3.51634718e-03,  2.24000000e-01]])"
      ]
     },
     "execution_count": 3,
     "metadata": {},
     "output_type": "execute_result"
    }
   ],
   "source": [
    "qpos"
   ]
  },
  {
   "cell_type": "code",
   "execution_count": 4,
   "id": "ab9e3ed8",
   "metadata": {},
   "outputs": [
    {
     "name": "stdout",
     "output_type": "stream",
     "text": [
      "Velocity limit exceeded at indices (row, joint): []\n",
      "Acceleration limit exceeded at indices (row, joint): []\n"
     ]
    }
   ],
   "source": [
    "# velocity와 acceleration 계산\n",
    "dt = np.diff(timestep, axis=0).flatten()  # (n-1,)\n",
    "velocity = np.diff(qpos, axis=0) / dt[:, None]  # (n-1, 5)\n",
    "acceleration = np.diff(velocity, axis=0) / dt[:-1, None]  # (n-2, 5)\n",
    "\n",
    "\n",
    "# residual_torque_limits = np.array(\n",
    "#     [4.07267981906041,\n",
    "#     3.95198067018901,\n",
    "#     3.97675265052986,\n",
    "#     3.96028660022148,\n",
    "#     3.9\n",
    "#     ])\n",
    "vel_limits = np.array(\n",
    "    [4.78501013007516,\n",
    "    4.64320014851508,\n",
    "    4.67230486141645,\n",
    "    4.6529588236653,\n",
    "    4.6])\n",
    "acc_limits = np.array(\n",
    "    [231321.273714306,\n",
    "    16418.1218822564,\n",
    "    160356.382291855,\n",
    "    23470.8936359572,\n",
    "    20000.0])\n",
    "# 제한 초과 여부 확인\n",
    "vel_exceed = np.abs(velocity) > vel_limits\n",
    "acc_exceed = np.abs(acceleration) > acc_limits\n",
    "\n",
    "# 결과 출력\n",
    "print(\"Velocity limit exceeded at indices (row, joint):\", np.argwhere(vel_exceed))\n",
    "print(\"Acceleration limit exceeded at indices (row, joint):\", np.argwhere(acc_exceed))"
   ]
  },
  {
   "cell_type": "code",
   "execution_count": 5,
   "id": "7550044e",
   "metadata": {},
   "outputs": [
    {
     "name": "stdout",
     "output_type": "stream",
     "text": [
      "controller.DEVICENAME:  /dev/ttyUSB0\n",
      "Succeeded to open the port\n",
      "Succeeded to change the baudrate\n",
      "[Command] start ([100]HZ. MAX_SEC:[infsec]).\n"
     ]
    }
   ],
   "source": [
    "if np.argwhere(vel_exceed).size == 0 and np.argwhere(acc_exceed).size == 0:\n",
    "    tmr_cmd = Timer(_name='Command',_HZ=100,_MAX_SEC=np.inf,_VERBOSE=True)\n",
    "    controller = XM430()\n",
    "    controller.DXL_ID = [11,12,13,14,15]\n",
    "    print(\"controller.DEVICENAME: \",controller.DEVICENAME)\n",
    "    controller.BAUDRATE = 1000000\n",
    "    controller.initialize()\n",
    "    tmr_cmd.start()\n",
    "    idx=0\n",
    "    while idx<len(qpos):\n",
    "        try:\n",
    "            if tmr_cmd.do_run():\n",
    "                qpos_bytes = rads_to_bytes(\n",
    "                    qpos[idx],\n",
    "                    [[-np.pi,np.pi]],\n",
    "                )\n",
    "                controller.run_multi_motor(qpos_bytes,controller.DXL_ID)\n",
    "                idx += 1\n",
    "        except KeyboardInterrupt:\n",
    "            break"
   ]
  },
  {
   "cell_type": "code",
   "execution_count": null,
   "id": "afb6eb8e",
   "metadata": {},
   "outputs": [],
   "source": []
  }
 ],
 "metadata": {
  "kernelspec": {
   "display_name": "Python 3",
   "language": "python",
   "name": "python3"
  },
  "language_info": {
   "codemirror_mode": {
    "name": "ipython",
    "version": 3
   },
   "file_extension": ".py",
   "mimetype": "text/x-python",
   "name": "python",
   "nbconvert_exporter": "python",
   "pygments_lexer": "ipython3",
   "version": "3.10.12"
  }
 },
 "nbformat": 4,
 "nbformat_minor": 5
}
