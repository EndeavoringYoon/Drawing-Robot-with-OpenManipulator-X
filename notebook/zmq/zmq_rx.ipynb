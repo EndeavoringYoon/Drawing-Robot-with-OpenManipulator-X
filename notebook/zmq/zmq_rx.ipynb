{
 "cells": [
  {
   "cell_type": "markdown",
   "id": "30eb09f4-f359-448a-871f-89eb90712af3",
   "metadata": {},
   "source": [
    "### Receive information using `zmq` "
   ]
  },
  {
   "cell_type": "code",
   "execution_count": 1,
   "id": "653d31ea-a400-4ec2-9528-4cb443070691",
   "metadata": {},
   "outputs": [
    {
     "name": "stdout",
     "output_type": "stream",
     "text": [
      "Ready.\n"
     ]
    }
   ],
   "source": [
    "import zmq\n",
    "import time\n",
    "print (\"Ready.\")"
   ]
  },
  {
   "cell_type": "code",
   "execution_count": 2,
   "id": "2f0f2f5f-e792-4dff-b637-34a69dd64b04",
   "metadata": {},
   "outputs": [
    {
     "name": "stdout",
     "output_type": "stream",
     "text": [
      "Socket ready.\n"
     ]
    }
   ],
   "source": [
    "context = zmq.Context()\n",
    "socket = context.socket(zmq.SUB)\n",
    "socket.connect(\"tcp://127.0.0.1:5555\")\n",
    "socket.setsockopt(zmq.SUBSCRIBE, b'')\n",
    "print (\"Socket ready.\")"
   ]
  },
  {
   "cell_type": "code",
   "execution_count": 3,
   "id": "2025cfa1-4aa9-429f-b6a9-5a1c4ea9585e",
   "metadata": {
    "scrolled": true
   },
   "outputs": [
    {
     "name": "stdout",
     "output_type": "stream",
     "text": [
      "[6] [2025-03-02 22:30:29]\n",
      "[7] [2025-03-02 22:30:30]\n",
      "[8] [2025-03-02 22:30:31]\n",
      "[9] [2025-03-02 22:30:32]\n",
      "[10] [2025-03-02 22:30:33]\n",
      "Socket closed.\n"
     ]
    }
   ],
   "source": [
    "start_time = time.time()\n",
    "while time.time() - start_time < 5.0:\n",
    "    try:\n",
    "        data = socket.recv_pyobj(flags=zmq.NOBLOCK)  # Non-blocking\n",
    "        cnt,current_time = data['cnt'],data['current_time']\n",
    "        print(\"[%d] [%s]\"%(cnt,current_time.strftime(\"%Y-%m-%d %H:%M:%S\")))\n",
    "    except zmq.Again:\n",
    "        pass\n",
    "    # Other codes\n",
    "    time.sleep(0.01)\n",
    "# Close\n",
    "socket.close()\n",
    "context.term()\n",
    "print (\"Socket closed.\")"
   ]
  },
  {
   "cell_type": "code",
   "execution_count": null,
   "id": "58cdeb5f-1987-42c8-8436-ffc9b23f86d0",
   "metadata": {},
   "outputs": [],
   "source": []
  }
 ],
 "metadata": {
  "kernelspec": {
   "display_name": "Python 3",
   "language": "python",
   "name": "python3"
  },
  "language_info": {
   "codemirror_mode": {
    "name": "ipython",
    "version": 3
   },
   "file_extension": ".py",
   "mimetype": "text/x-python",
   "name": "python",
   "nbconvert_exporter": "python",
   "pygments_lexer": "ipython3",
   "version": "3.10.12"
  }
 },
 "nbformat": 4,
 "nbformat_minor": 5
}
