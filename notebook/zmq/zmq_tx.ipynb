{
 "cells": [
  {
   "cell_type": "markdown",
   "id": "8e1f142e-9f3b-4beb-815c-54a5129d72ee",
   "metadata": {},
   "source": [
    "### Send information using `zmq`"
   ]
  },
  {
   "cell_type": "code",
   "execution_count": 1,
   "id": "15eed479-0a43-4f87-9174-d687e4f281ef",
   "metadata": {},
   "outputs": [
    {
     "name": "stdout",
     "output_type": "stream",
     "text": [
      "Ready.\n"
     ]
    }
   ],
   "source": [
    "import zmq\n",
    "import time\n",
    "from datetime import datetime\n",
    "print (\"Ready.\")"
   ]
  },
  {
   "cell_type": "code",
   "execution_count": 2,
   "id": "208b517f-28a1-4574-84c8-7a6308f8b740",
   "metadata": {},
   "outputs": [
    {
     "name": "stdout",
     "output_type": "stream",
     "text": [
      "Socket ready.\n"
     ]
    }
   ],
   "source": [
    "context = zmq.Context()\n",
    "socket = context.socket(zmq.PUB)\n",
    "socket.bind(\"tcp://127.0.0.1:5555\")\n",
    "print (\"Socket ready.\")"
   ]
  },
  {
   "cell_type": "code",
   "execution_count": 3,
   "id": "47c4850c-340c-4e0e-b1b3-7337bcd814fe",
   "metadata": {},
   "outputs": [
    {
     "name": "stdout",
     "output_type": "stream",
     "text": [
      "Start. It will loop for 10 seconds.\n",
      "[1] [2025-03-02 22:30:24]\n",
      "[2] [2025-03-02 22:30:25]\n",
      "[3] [2025-03-02 22:30:26]\n",
      "[4] [2025-03-02 22:30:27]\n",
      "[5] [2025-03-02 22:30:28]\n",
      "[6] [2025-03-02 22:30:29]\n",
      "[7] [2025-03-02 22:30:30]\n",
      "[8] [2025-03-02 22:30:31]\n",
      "[9] [2025-03-02 22:30:32]\n",
      "[10] [2025-03-02 22:30:33]\n",
      "Socket closed.\n"
     ]
    }
   ],
   "source": [
    "print (\"Start. It will loop for 10 seconds.\")\n",
    "start_time = time.time()\n",
    "cnt = 0\n",
    "while time.time() - start_time < 10.0:\n",
    "    cnt  = cnt + 1 # increase counter\n",
    "    current_time = datetime.now()\n",
    "    data = {'cnt':cnt,'current_time':current_time}\n",
    "    socket.send_pyobj(data)  # send Pythong objects\n",
    "    print(\"[%d] [%s]\"%(cnt,current_time.strftime(\"%Y-%m-%d %H:%M:%S\")))\n",
    "    time.sleep(1.0)\n",
    "# Close\n",
    "socket.close()\n",
    "context.term()\n",
    "print (\"Socket closed.\")"
   ]
  },
  {
   "cell_type": "code",
   "execution_count": null,
   "id": "4c38f26d-fbd8-4ad4-b1ac-7fe353ff9e8e",
   "metadata": {},
   "outputs": [],
   "source": []
  }
 ],
 "metadata": {
  "kernelspec": {
   "display_name": "Python 3",
   "language": "python",
   "name": "python3"
  },
  "language_info": {
   "codemirror_mode": {
    "name": "ipython",
    "version": 3
   },
   "file_extension": ".py",
   "mimetype": "text/x-python",
   "name": "python",
   "nbconvert_exporter": "python",
   "pygments_lexer": "ipython3",
   "version": "3.10.12"
  }
 },
 "nbformat": 4,
 "nbformat_minor": 5
}
